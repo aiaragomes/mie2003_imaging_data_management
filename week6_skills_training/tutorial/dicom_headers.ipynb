{
 "cells": [
  {
   "cell_type": "markdown",
   "id": "18021e39-f0ba-47ea-9b34-56f5651a5b98",
   "metadata": {},
   "source": [
    "# Pseudonymization of DICOM headers"
   ]
  },
  {
   "cell_type": "code",
   "execution_count": null,
   "id": "9acd155a-83a3-4c02-9556-5d802dbecc80",
   "metadata": {},
   "outputs": [],
   "source": [
    "import os\n",
    "import pydicom"
   ]
  },
  {
   "cell_type": "markdown",
   "id": "e38cec96-0f77-4e46-ae8a-d29030846cbe",
   "metadata": {},
   "source": [
    "## Reading DICOM files"
   ]
  },
  {
   "cell_type": "code",
   "execution_count": null,
   "id": "5317bc66-f011-4f04-8915-3b43c2df55f1",
   "metadata": {},
   "outputs": [],
   "source": [
    "# Reading a single file\n",
    "filename = 'example.dcm'\n",
    "filepath = os.path.join(os.getcwd(), 'data', filename)\n",
    "dataset = pydicom.dcmread(filepath)"
   ]
  },
  {
   "cell_type": "markdown",
   "id": "4fb64cea-8e0a-49d4-94f0-0d9c0eb6ed7a",
   "metadata": {},
   "source": [
    "## Finding field types"
   ]
  },
  {
   "cell_type": "code",
   "execution_count": null,
   "id": "bc90a25e-e306-4d8a-8c2e-ac243e8967d4",
   "metadata": {},
   "outputs": [],
   "source": [
    "# Let's visualise the metadata of the DICOM file\n",
    "dataset.file_meta"
   ]
  },
  {
   "cell_type": "markdown",
   "id": "8f81cd05-794b-4a46-942d-ba817c30670c",
   "metadata": {},
   "source": [
    "Go to the [DICOM standard](https://dicom.nema.org/medical/dicom/current/output/chtml/part04/sect_B.5.html) page and find the \n",
    "IOD Specification that corresponds to the SOP Class UID.\n",
    "\n",
    "Modules marked with M are mandatory, C are conditional and U optional.\n",
    "\n",
    "Let's explore the General Study module. Now take a look at the first 15 attributes and separate type 1, type 2 and type 3 in different lists. Use the [DICOM data elements](https://dicom.nema.org/medical/dicom/current/output/chtml/part06/chapter_6.html) page to find the keyword for the attributes. You should use the keyword instead of the Attribute Name or Tag in the lists."
   ]
  },
  {
   "cell_type": "code",
   "execution_count": null,
   "id": "2a395989-80c1-475f-afce-dd140cd4591f",
   "metadata": {},
   "outputs": [],
   "source": [
    "# EXERCISE\n",
    "# Make a list with the type 1 attributes\n",
    "type1 = []"
   ]
  },
  {
   "cell_type": "code",
   "execution_count": null,
   "id": "950a4d9f-1ce6-4938-ac95-516a1cf75c3b",
   "metadata": {},
   "outputs": [],
   "source": [
    "# EXERCISE\n",
    "# Make a list with the type 2 attributes\n",
    "type2 = []"
   ]
  },
  {
   "cell_type": "code",
   "execution_count": null,
   "id": "6e146f7d-dc37-4881-96e0-5ff6667604f9",
   "metadata": {},
   "outputs": [],
   "source": [
    "# EXERCISE\n",
    "# Make a list with the type 3 attributes\n",
    "type3 = []"
   ]
  },
  {
   "cell_type": "markdown",
   "id": "fd57a337-6b2f-432d-8767-eb423864869f",
   "metadata": {},
   "source": [
    "## Visualising attributes\n",
    "\n",
    "Let's now visualise the attributes from the 3 lists."
   ]
  },
  {
   "cell_type": "code",
   "execution_count": null,
   "id": "362a959c-2699-4686-9597-27cce4f4c05e",
   "metadata": {},
   "outputs": [],
   "source": [
    "# You can visualise the value of an attribute as follows\n",
    "keyword = 'PatientID'\n",
    "print(dataset.data_element(keyword))"
   ]
  },
  {
   "cell_type": "code",
   "execution_count": null,
   "id": "60915e64-7e49-4055-be15-966f9377f70d",
   "metadata": {},
   "outputs": [],
   "source": [
    "# EXERCISE\n",
    "# Visualise the attributes from the type 1 list\n"
   ]
  },
  {
   "cell_type": "code",
   "execution_count": null,
   "id": "03ac6f36-fa50-40f1-ab46-fb0911db6a2e",
   "metadata": {},
   "outputs": [],
   "source": [
    "# EXERCISE\n",
    "# Visualise the attributes from the type 2 list\n"
   ]
  },
  {
   "cell_type": "code",
   "execution_count": null,
   "id": "0c082083-56e3-4f20-b146-814ad3365fef",
   "metadata": {},
   "outputs": [],
   "source": [
    "# EXERCISE\n",
    "# Visualise the attributes from the type 3 list\n"
   ]
  },
  {
   "cell_type": "markdown",
   "id": "ce992336-ba22-4b53-8ccf-deda433c99a7",
   "metadata": {},
   "source": [
    "Let's now discuss the results from the exercise:\n",
    "\n",
    "- Have you encounterd any problems? Were you able to solve them? \n",
    "\n",
    "- Do you understand everything?"
   ]
  },
  {
   "cell_type": "markdown",
   "id": "1d9c3a21-2f97-4780-90f5-7f9667ccb1c4",
   "metadata": {},
   "source": [
    "## Pseudonymization of attributes\n",
    "\n",
    "Let's now (further) pseudonymize this DICOM header by following the Basic Application Level Confidentiality Profile. In order to keep things simple, apply the profile only for the attributes from the lists above. "
   ]
  },
  {
   "cell_type": "code",
   "execution_count": null,
   "id": "7b688441-d3dd-4b87-af17-4aa081cbf082",
   "metadata": {},
   "outputs": [],
   "source": [
    "# EXERCISE\n",
    "# Make 3 lists with the attributes that should be pseudoanonymized according to the DICOM basic profile\n"
   ]
  },
  {
   "cell_type": "markdown",
   "id": "3d4632b7-1151-4b38-bb71-0f2d328c4071",
   "metadata": {},
   "source": [
    "- Which attributes did you add?\n",
    "\n",
    "- How many attributes did you add?\n",
    "\n",
    "Now let's pseudonymize them!"
   ]
  },
  {
   "cell_type": "code",
   "execution_count": null,
   "id": "2deee274-9523-4a20-90e2-66dc5af4450b",
   "metadata": {},
   "outputs": [],
   "source": [
    "# You can do the following to replace values of an attribute\n",
    "keyword = 'PatientName'\n",
    "dataset.data_element(keyword).value = 'John Doe'"
   ]
  },
  {
   "cell_type": "code",
   "execution_count": null,
   "id": "3a3c6abb-288d-4084-8e6e-6fb9ffea2ffe",
   "metadata": {},
   "outputs": [],
   "source": [
    "# You can do the following to remove an attribute\n",
    "keyword = 'Other​Patient​Names'\n",
    "if keyword in dataset:\n",
    "    delattr(dataset, keyword)"
   ]
  },
  {
   "cell_type": "code",
   "execution_count": null,
   "id": "d67069eb-18b7-4ef6-9500-5f142a791947",
   "metadata": {},
   "outputs": [],
   "source": [
    "# EXERCISE\n",
    "# Now apply the basic profile\n"
   ]
  },
  {
   "cell_type": "markdown",
   "id": "8d7c2dd4-34d6-4ff5-81d1-f1c5f073df7c",
   "metadata": {},
   "source": [
    "Let's now discuss what you have done:\n",
    "\n",
    "- Which attributes have you pseudonymize?\n",
    "\n",
    "- What have you done to pseudononyize them?"
   ]
  },
  {
   "cell_type": "code",
   "execution_count": null,
   "id": "278293f0-5546-4954-bfbf-f6e0a7a471df",
   "metadata": {},
   "outputs": [],
   "source": [
    "# EXERCISE\n",
    "# Now visualise the results of your pseudonimization\n"
   ]
  },
  {
   "cell_type": "markdown",
   "id": "3ff340fd-cc4e-478d-9ded-31bb1856f5de",
   "metadata": {},
   "source": [
    "## OPC-Radiomics data\n",
    "\n",
    "You noticed that you have been working with a dataset that has been pseudonymized. Let's now explore which method has been used for de-identification."
   ]
  },
  {
   "cell_type": "code",
   "execution_count": null,
   "id": "909ccde6-bf7b-45d5-a1a4-1c2a046f4fbc",
   "metadata": {},
   "outputs": [],
   "source": [
    "# Was the patient identity removed?\n",
    "print(dataset.PatientIdentityRemoved)"
   ]
  },
  {
   "cell_type": "code",
   "execution_count": null,
   "id": "5f12383c-15e0-4745-989a-40c83d5d3663",
   "metadata": {},
   "outputs": [],
   "source": [
    "# De-identification method\n",
    "print(dataset.DeidentificationMethod)"
   ]
  },
  {
   "cell_type": "code",
   "execution_count": null,
   "id": "c42b4ecb-c01b-4ef4-a78b-38a332f968b3",
   "metadata": {},
   "outputs": [],
   "source": [
    "# De-identification method code sequence\n",
    "print(dataset.DeidentificationMethodCodeSequence)"
   ]
  },
  {
   "cell_type": "markdown",
   "id": "ce3510ce-e6ff-46d2-9c3e-4bc4e5339cfe",
   "metadata": {},
   "source": [
    "## References\n",
    "\n",
    "- [Pydicom: Anonymize DICOM data](https://pydicom.github.io/pydicom/stable/auto_examples/metadata_processing/plot_anonymize.html)\n",
    "- [Introduction to the anonymization of medical images in DICOM format](https://www.imaios.com/en/resources/blog/dicom-anonymization)"
   ]
  },
  {
   "cell_type": "code",
   "execution_count": null,
   "id": "fa012afe-6297-4dec-abc7-63fbd1f5f838",
   "metadata": {},
   "outputs": [],
   "source": []
  }
 ],
 "metadata": {
  "kernelspec": {
   "display_name": "mie2003",
   "language": "python",
   "name": "mie2003"
  },
  "language_info": {
   "codemirror_mode": {
    "name": "ipython",
    "version": 3
   },
   "file_extension": ".py",
   "mimetype": "text/x-python",
   "name": "python",
   "nbconvert_exporter": "python",
   "pygments_lexer": "ipython3",
   "version": "3.10.10"
  }
 },
 "nbformat": 4,
 "nbformat_minor": 5
}
