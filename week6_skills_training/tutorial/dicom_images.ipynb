{
 "cells": [
  {
   "cell_type": "markdown",
   "id": "f6c4cb24-a487-4736-905c-87eb55bc74cc",
   "metadata": {},
   "source": [
    "# Pseudonymization of images"
   ]
  },
  {
   "cell_type": "code",
   "execution_count": null,
   "id": "02a06ab6-da89-4af8-95d3-3763a3918440",
   "metadata": {},
   "outputs": [],
   "source": [
    "import os\n",
    "import pydicom\n",
    "\n",
    "import numpy as np\n",
    "import nibabel as nib\n",
    "import matplotlib.pyplot as plt\n",
    "\n",
    "from ipywidgets.widgets import interact \n",
    "from skimage.io import imshow\n",
    "\n",
    "from src.helper import *\n",
    "\n",
    "import warnings\n",
    "warnings.filterwarnings('ignore')"
   ]
  },
  {
   "cell_type": "markdown",
   "id": "1afeef91-a51f-4ec4-86f1-08d61b96782a",
   "metadata": {},
   "source": [
    "## Read DICOM files\n",
    "\n",
    "### Single file"
   ]
  },
  {
   "cell_type": "code",
   "execution_count": null,
   "id": "adba6c4c-0cbd-42e0-84d9-5f390699450f",
   "metadata": {},
   "outputs": [],
   "source": [
    "# EXERCISE\n",
    "# Read the slice.dcm file\n"
   ]
  },
  {
   "cell_type": "markdown",
   "id": "934e15dc-5b20-41cd-b2ed-3005b9ee66fb",
   "metadata": {},
   "source": [
    "Let's now look at some metadata of the image (not of the DICOM) to understand what the image is about."
   ]
  },
  {
   "cell_type": "code",
   "execution_count": null,
   "id": "46b161b2-ce1f-40bb-bb92-2a481cd57d7f",
   "metadata": {},
   "outputs": [],
   "source": [
    "# EXERCISE\n",
    "# Checking some image information\n",
    "# Tip: see what you can autocomplete after dataset.\n"
   ]
  },
  {
   "cell_type": "markdown",
   "id": "45e0d36e-a4f8-4a6c-9efa-991b2cec2d68",
   "metadata": {},
   "source": [
    "- What have you found out?"
   ]
  },
  {
   "cell_type": "markdown",
   "id": "5d5b59da-486d-4fc6-a837-236705a4cc80",
   "metadata": {},
   "source": [
    "### Multiple files\n",
    "\n",
    "We are now going to read multiple slices of a particular patient into a 3D matrix."
   ]
  },
  {
   "cell_type": "code",
   "execution_count": null,
   "id": "9865aabe-5858-41b4-98fb-ee5123596a8f",
   "metadata": {},
   "outputs": [],
   "source": [
    "# Read multiple slices\n",
    "project_path = os.getcwd()\n",
    "ct_slices_path = 'OPC-00011/07-09-2002-NA-Head and Neck RT Planning CT-89269/2.000000-Helical Axial-17056'\n",
    "files_path = os.path.join(project_path, 'data', ct_slices_path)\n",
    "image = load_scan(files_path)"
   ]
  },
  {
   "cell_type": "markdown",
   "id": "1d6e4e80-1d0d-417a-ad72-c7f0b86e6c65",
   "metadata": {},
   "source": [
    "## Visualising DICOM files\n",
    "\n",
    "We can now have a look at the pixel data."
   ]
  },
  {
   "cell_type": "code",
   "execution_count": null,
   "id": "5252c23e-140d-4fc1-bd8d-edeb23dcd91c",
   "metadata": {},
   "outputs": [],
   "source": [
    "# EXERCISE\n",
    "# Check the dimensions of the image\n"
   ]
  },
  {
   "cell_type": "markdown",
   "id": "d2a489a5-2f82-4950-90c7-eac1a3fcd38b",
   "metadata": {},
   "source": [
    "- How many slices are available?\n",
    "- What is the size of each slice?"
   ]
  },
  {
   "cell_type": "code",
   "execution_count": null,
   "id": "adf28199-4286-4d47-9b66-ec45bfc70e10",
   "metadata": {},
   "outputs": [],
   "source": [
    "# Visualising the pixel data: Coronal plane\n",
    "imshow(np.rot90(image[256, :, :], 1), cmap=plt.cm.bone)"
   ]
  },
  {
   "cell_type": "code",
   "execution_count": null,
   "id": "b59d7b9e-1672-44e6-8ef8-cc0c3926a82a",
   "metadata": {},
   "outputs": [],
   "source": [
    "# EXERCISE\n",
    "# Visualising the pixel data: Sagittal plane\n"
   ]
  },
  {
   "cell_type": "code",
   "execution_count": null,
   "id": "01bf16f1-0050-470b-a111-d34f060e132c",
   "metadata": {},
   "outputs": [],
   "source": [
    "# EXERCISE\n",
    "# Visualising the pixel data: Axial plane\n"
   ]
  },
  {
   "cell_type": "markdown",
   "id": "61035d89-3c5f-4c5d-97f0-57880f67d37e",
   "metadata": {},
   "source": [
    "It is also nice to be able to interactively visualise the slices. Let's do it!"
   ]
  },
  {
   "cell_type": "code",
   "execution_count": null,
   "id": "01872be3-9e7a-4617-b187-7f8003950075",
   "metadata": {},
   "outputs": [],
   "source": [
    "# EXERCISE\n",
    "# Visualise slices interactively (choose a plane)\n",
    "# Tip: you can use the `interact` function to help you out, look at examples on its docstring\n"
   ]
  },
  {
   "cell_type": "markdown",
   "id": "9c9e6844-ac02-4ba4-901a-854f87b0289d",
   "metadata": {},
   "source": [
    "As we can see, the CT scan contains the head of a person, which in principle can be used to reconstruct the face of the person, thus invading the subject's privacy."
   ]
  },
  {
   "cell_type": "markdown",
   "id": "a9d15a93-39df-4b97-a9e5-1ec750b3d8d8",
   "metadata": {},
   "source": [
    "## Defacing images\n",
    "\n",
    "Let's now learn how to deface the images. We start by reading a file that contains a very rough segmentation of the face."
   ]
  },
  {
   "cell_type": "code",
   "execution_count": null,
   "id": "8a7971e1-56fe-4b91-820a-dc86b3f790f6",
   "metadata": {},
   "outputs": [],
   "source": [
    "# Read segmentation\n",
    "file_path = os.path.join(os.getcwd(), 'data', 'segmentation.nii')\n",
    "image_seg = nib.load(file_path).get_fdata()"
   ]
  },
  {
   "cell_type": "code",
   "execution_count": null,
   "id": "0827ac43-74e6-4a2b-8e6b-8fd09a40d6e2",
   "metadata": {},
   "outputs": [],
   "source": [
    "# EXERCISE\n",
    "# Check the shape of the image and visualise it\n",
    "# Tip: plot slice 155 of the Axial plane\n"
   ]
  },
  {
   "cell_type": "code",
   "execution_count": null,
   "id": "a0f8e8d9-728d-41e0-a619-dce5117b0fb6",
   "metadata": {},
   "outputs": [],
   "source": [
    "# Rotate Axial plane in all slices\n",
    "for i in range(image_seg.shape[2]):\n",
    "    image_seg[:, :, i] = np.rot90(image_seg[:, :, i], 3)"
   ]
  },
  {
   "cell_type": "code",
   "execution_count": null,
   "id": "13e67168-abee-428e-a638-90ddb7288e24",
   "metadata": {},
   "outputs": [],
   "source": [
    "# EXERCISE\n",
    "# Mask original image using the segmentation\n"
   ]
  },
  {
   "cell_type": "code",
   "execution_count": null,
   "id": "41a766ed-1723-4406-b183-10ffddd412fc",
   "metadata": {},
   "outputs": [],
   "source": [
    "# EXERCISE\n",
    "# Visualise Axial plane for the masked image (slice 155)\n"
   ]
  },
  {
   "cell_type": "code",
   "execution_count": null,
   "id": "87ec3930-31db-421f-a1e3-fbb2173be582",
   "metadata": {},
   "outputs": [],
   "source": [
    "# EXERCISE\n",
    "# Visualise Sagittal plane for the masked image (middle cut)\n"
   ]
  },
  {
   "cell_type": "markdown",
   "id": "2f137f9c-2018-4077-beac-54144181ad93",
   "metadata": {},
   "source": [
    "Now you have a pseudonymized CT scan of the patient. Congratulations!"
   ]
  },
  {
   "cell_type": "markdown",
   "id": "838f9610-3742-441f-9a58-14be50118401",
   "metadata": {},
   "source": [
    "## Impact on analytics\n",
    "\n",
    "The privacy of the patient will come with a price. The process of defacing the image might hurt the result of analyses one might want to perform on these images. Let's have a look at what happens with some statistics of this image."
   ]
  },
  {
   "cell_type": "code",
   "execution_count": null,
   "id": "72844275-8370-4b7c-8541-d0f8b95060eb",
   "metadata": {},
   "outputs": [],
   "source": [
    "# EXERCISE\n",
    "# Compute min, max and average for the original and defaced images\n"
   ]
  },
  {
   "cell_type": "code",
   "execution_count": null,
   "id": "70e9e471-fa69-4e05-9676-ffb76b7f704b",
   "metadata": {},
   "outputs": [],
   "source": [
    "# EXERCISE\n",
    "# How similar are the images?\n"
   ]
  },
  {
   "cell_type": "markdown",
   "id": "d462d46a-766e-46ef-80ac-14acc0c27a00",
   "metadata": {},
   "source": [
    "## Segmenting the face region\n",
    "\n",
    "If we have time, we are going to have a tutorial of how to get the face region using `3dslicer`. Then you will be able to complete all the steps of defacing the image on your own. Note though that the libraries mentioned in the slides are recommended in case you need it for research."
   ]
  },
  {
   "cell_type": "markdown",
   "id": "bfb10bca-9ce7-4f4a-9180-37a655f0f8f9",
   "metadata": {},
   "source": [
    "## References\n",
    "\n",
    "- [Pydicom: General examples](https://pydicom.github.io/pydicom/stable/auto_examples/index.html)"
   ]
  },
  {
   "cell_type": "code",
   "execution_count": null,
   "id": "23c7f45c-6981-495f-a5cd-263255286cec",
   "metadata": {},
   "outputs": [],
   "source": []
  }
 ],
 "metadata": {
  "kernelspec": {
   "display_name": "mie2003",
   "language": "python",
   "name": "mie2003"
  },
  "language_info": {
   "codemirror_mode": {
    "name": "ipython",
    "version": 3
   },
   "file_extension": ".py",
   "mimetype": "text/x-python",
   "name": "python",
   "nbconvert_exporter": "python",
   "pygments_lexer": "ipython3",
   "version": "3.10.10"
  }
 },
 "nbformat": 4,
 "nbformat_minor": 5
}
