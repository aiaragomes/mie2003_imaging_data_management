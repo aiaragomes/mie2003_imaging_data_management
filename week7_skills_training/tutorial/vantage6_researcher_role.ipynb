{
 "cells": [
  {
   "cell_type": "markdown",
   "id": "db2402a7-05a2-46bd-8e13-648379f67d99",
   "metadata": {},
   "source": [
    "# Vantage6"
   ]
  },
  {
   "cell_type": "code",
   "execution_count": null,
   "id": "a4b37298-eaa4-429b-83fd-f9ccd39488d6",
   "metadata": {},
   "outputs": [],
   "source": [
    "import time\n",
    "from vantage6.client import Client\n",
    "from sklearn.linear_model import LogisticRegression\n",
    "from src import config"
   ]
  },
  {
   "cell_type": "markdown",
   "id": "c1f576d9-4c6c-4522-bdbb-d4ca754e4cdf",
   "metadata": {},
   "source": [
    "## Installing a data node\n",
    "\n",
    "In this tutorial, we do not intend to create data nodes as an exercise, since the content is focused on developing and using federated algorithms. In any case, you will see a live demo of how a data node can be created, which will follow the steps below.\n",
    "\n",
    "You can set up a vantage6 data node with a few commands. The only requirements are `python3` and `docker`. You should do the following steps to create a node:\n",
    "\n",
    "1. Make a virtual environment\n",
    "```shell\n",
    "    python -m venv .venv\n",
    "```\n",
    "2. Install vantage6 in this environment\n",
    "```shell\n",
    "    source .venv/bin/activate\n",
    "    pip install vantage6==3.11.1\n",
    "```\n",
    "3. Create the node\n",
    "```shell\n",
    "    vnode new\n",
    "```\n",
    "\n",
    "In the last step, you should follow the prompt and provide the input you are asked for. Many of the inputs are information you receive from the central node administrator.\n",
    "\n",
    "After creating a node, you can bring it online as follows:\n",
    "\n",
    "4. Start the node\n",
    "```shell\n",
    "    vnode start --attach\n",
    "```\n",
    "\n",
    "The `attach` tag can be used to follow the logs, which can be very useful.\n",
    "\n",
    "If you do not expect that the node will receive tasks, it is common practice to bring it down, which you can do as follows:\n",
    "\n",
    "5. Stopping the node\n",
    "```shell\n",
    "    vnode stop\n",
    "```\n",
    "\n",
    "Finally, you can check other node commands:\n",
    "\n",
    "6. Getting help\n",
    "```shell\n",
    "    vnode help\n",
    "```"
   ]
  },
  {
   "cell_type": "markdown",
   "id": "f3c8d1cf-2d64-450a-8b74-b77295c80eef",
   "metadata": {},
   "source": [
    "## Sending a task\n",
    "\n",
    "Now that we have _real_ data nodes, you can send tasks to them. We will send a logistic regression task that does exactlly the same as we did in the previous tutorial. The difference is that all the steps are automated, which means that we can train the logistic regression until model convergence is achieved or at least for many more steps than we did manually.\n",
    "\n",
    "Before starting, you need to edit the `config.py` file, which is located in the `src` directory. The information you need to provide in this file will be shared with you during the lecture."
   ]
  },
  {
   "cell_type": "code",
   "execution_count": null,
   "id": "3633c6e1-a045-48f9-8741-b7fb476ad72b",
   "metadata": {},
   "outputs": [],
   "source": [
    "# Initialize the vantage6 client object, and run the authentication\n",
    "client = Client(\n",
    "    config.server_url, config.server_port, config.server_api,\n",
    "    verbose=True\n",
    ")\n",
    "client.authenticate(config.username, config.password)\n",
    "client.setup_encryption(None)"
   ]
  },
  {
   "cell_type": "code",
   "execution_count": null,
   "id": "492ada4c-4aac-4313-9d05-696a56c03ae4",
   "metadata": {},
   "outputs": [],
   "source": [
    "# Vantage6 logistic regression task input\n",
    "input_ = {\n",
    "    'method': 'master',\n",
    "    'master': True,\n",
    "    'kwargs': {\n",
    "        'org_ids': config.org_ids,\n",
    "        'predictors': config.predictors,\n",
    "        'outcome': config.outcome,\n",
    "        'classes': config.classes,\n",
    "        'max_iter': config.max_iter,\n",
    "        'delta': config.delta,\n",
    "    }\n",
    "}"
   ]
  },
  {
   "cell_type": "code",
   "execution_count": null,
   "id": "5b0be21f-6adc-482f-bfef-f2c0cbf75446",
   "metadata": {},
   "outputs": [],
   "source": [
    "# Vantage6 logistic regression task creation\n",
    "task = client.task.create(\n",
    "    collaboration=config.collaboration,\n",
    "    organizations=config.org_ids,\n",
    "    name='v6-logistic-regression-py',\n",
    "    image=config.image,\n",
    "    description='logistic regression',\n",
    "    input=input_,\n",
    "    data_format='json'\n",
    ")"
   ]
  },
  {
   "cell_type": "code",
   "execution_count": null,
   "id": "57fa9e79-01b8-4b2b-a17d-fb74e40727b0",
   "metadata": {},
   "outputs": [],
   "source": [
    "# Retrieving results\n",
    "task_info = client.task.get(task['id'], include_results=True)\n",
    "while not task_info.get('complete'):\n",
    "    print('Waiting for results...')\n",
    "    task_info = client.task.get(task['id'], include_results=True)\n",
    "    time.sleep(1)\n",
    "result_info = client.result.list(task=task_info['id'])\n",
    "results = result_info['data'][0]['result']"
   ]
  },
  {
   "cell_type": "code",
   "execution_count": null,
   "id": "ad40b9b0-41e3-427c-b3f2-f9bfc16534e7",
   "metadata": {},
   "outputs": [],
   "source": [
    "# EXERCISE\n",
    "# Explore the results"
   ]
  },
  {
   "cell_type": "markdown",
   "id": "f94cd9a0-69c3-496a-b891-52c41a547c7f",
   "metadata": {},
   "source": [
    "- How do the result compare with the one you did manually?\n",
    "- What happens if you fix the maximum number of iterations to 5?"
   ]
  },
  {
   "cell_type": "markdown",
   "id": "3df1cd06-edf7-4045-b294-9ff6b0154bdd",
   "metadata": {},
   "source": [
    "## References\n",
    "\n",
    "- [Vantage6 documentation](https://docs.vantage6.ai/en/main/)"
   ]
  },
  {
   "cell_type": "code",
   "execution_count": null,
   "id": "28989147-8699-427b-89cc-3b6af96289a5",
   "metadata": {},
   "outputs": [],
   "source": []
  }
 ],
 "metadata": {
  "kernelspec": {
   "display_name": "mie2003",
   "language": "python",
   "name": "mie2003"
  },
  "language_info": {
   "codemirror_mode": {
    "name": "ipython",
    "version": 3
   },
   "file_extension": ".py",
   "mimetype": "text/x-python",
   "name": "python",
   "nbconvert_exporter": "python",
   "pygments_lexer": "ipython3",
   "version": "3.8.13"
  }
 },
 "nbformat": 4,
 "nbformat_minor": 5
}
