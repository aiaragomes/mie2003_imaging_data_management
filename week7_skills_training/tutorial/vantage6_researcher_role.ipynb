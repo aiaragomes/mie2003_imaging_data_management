{
 "cells": [
  {
   "cell_type": "markdown",
   "id": "db2402a7-05a2-46bd-8e13-648379f67d99",
   "metadata": {},
   "source": [
    "# Vantage6"
   ]
  },
  {
   "cell_type": "code",
   "execution_count": null,
   "id": "a4b37298-eaa4-429b-83fd-f9ccd39488d6",
   "metadata": {},
   "outputs": [],
   "source": [
    "import time\n",
    "from vantage6.client import Client\n",
    "from sklearn.linear_model import LogisticRegression\n",
    "from src import config"
   ]
  },
  {
   "cell_type": "markdown",
   "id": "f3c8d1cf-2d64-450a-8b74-b77295c80eef",
   "metadata": {},
   "source": [
    "## Reseacher role\n",
    "\n",
    "We are now _sharing_ the OPC-Radiomics data in vantage6 data nodes and, as a researcher in a collaboration, you can send tasks to them. We will send a logistic regression task that does exactlly the same as we did in the previous tutorial. The difference is that all the steps are now automated.\n",
    "\n",
    "Before starting, you need to edit the `config.py` file, which is located in the `src` directory. The information you need to provide in this file will be shared with you during the lecture."
   ]
  },
  {
   "cell_type": "code",
   "execution_count": null,
   "id": "3633c6e1-a045-48f9-8741-b7fb476ad72b",
   "metadata": {},
   "outputs": [],
   "source": [
    "# Initialize the vantage6 client object, and run the authentication\n",
    "client = Client(\n",
    "    config.server_url, config.server_port, config.server_api,\n",
    "    verbose=True\n",
    ")\n",
    "client.authenticate(config.username, config.password)\n",
    "client.setup_encryption(None)"
   ]
  },
  {
   "cell_type": "code",
   "execution_count": null,
   "id": "492ada4c-4aac-4313-9d05-696a56c03ae4",
   "metadata": {},
   "outputs": [],
   "source": [
    "# EXERCISE\n",
    "# Vantage6 logistic regression task input, set the maximum iterations to a high value and delta to a low value\n",
    "input_ = {\n",
    "    'method': 'master',\n",
    "    'master': True,\n",
    "    'kwargs': {\n",
    "        'org_ids': [2, 3],\n",
    "        'predictors': <YOUR_ANSWER_HERE>,\n",
    "        'outcome': <YOUR_ANSWER_HERE>,\n",
    "        'classes': <YOUR_ANSWER_HERE>,\n",
    "        'max_iter': <YOUR_ANSWER_HERE>,\n",
    "        'delta': <YOUR_ANSWER_HERE>,\n",
    "    }\n",
    "}"
   ]
  },
  {
   "cell_type": "code",
   "execution_count": null,
   "id": "5b0be21f-6adc-482f-bfef-f2c0cbf75446",
   "metadata": {},
   "outputs": [],
   "source": [
    "# Vantage6 logistic regression task creation\n",
    "task = client.task.create(\n",
    "    collaboration=1,\n",
    "    organizations=[2, 3],\n",
    "    name='v6-logistic-regression-py',\n",
    "    image='ghcr.io/maastrichtu-cds/v6-logistic-regression-py:latest',\n",
    "    description='logistic regression',\n",
    "    input=input_,\n",
    "    data_format='json'\n",
    ")"
   ]
  },
  {
   "cell_type": "code",
   "execution_count": null,
   "id": "57fa9e79-01b8-4b2b-a17d-fb74e40727b0",
   "metadata": {},
   "outputs": [],
   "source": [
    "%time\n",
    "# Retrieving results\n",
    "task_info = client.task.get(task['id'], include_results=True)\n",
    "while not task_info.get('complete'):\n",
    "    print('Waiting for results...')\n",
    "    task_info = client.task.get(task['id'], include_results=True)\n",
    "    time.sleep(1)\n",
    "result_info = client.result.list(task=task_info['id'])\n",
    "results = result_info['data'][0]['result']"
   ]
  },
  {
   "cell_type": "code",
   "execution_count": null,
   "id": "ad40b9b0-41e3-427c-b3f2-f9bfc16534e7",
   "metadata": {},
   "outputs": [],
   "source": [
    "# EXERCISE\n",
    "# Explore the results dictionary\n"
   ]
  },
  {
   "cell_type": "markdown",
   "id": "f94cd9a0-69c3-496a-b891-52c41a547c7f",
   "metadata": {},
   "source": [
    "- How do the result compare with the one you did manually?"
   ]
  },
  {
   "cell_type": "code",
   "execution_count": null,
   "id": "eb78c448-398d-416a-8913-4c60d20a9e8a",
   "metadata": {},
   "outputs": [],
   "source": [
    "# EXERCISE\n",
    "# Fix the max number of iterations to 5 and send a new task\n"
   ]
  },
  {
   "cell_type": "markdown",
   "id": "94dff00b-8155-4679-a384-1516e0de6649",
   "metadata": {},
   "source": [
    "- What happened now?"
   ]
  },
  {
   "cell_type": "markdown",
   "id": "3df1cd06-edf7-4045-b294-9ff6b0154bdd",
   "metadata": {},
   "source": [
    "## References\n",
    "\n",
    "- [Vantage6 documentation](https://docs.vantage6.ai/en/main/)"
   ]
  },
  {
   "cell_type": "code",
   "execution_count": null,
   "id": "28989147-8699-427b-89cc-3b6af96289a5",
   "metadata": {},
   "outputs": [],
   "source": []
  }
 ],
 "metadata": {
  "kernelspec": {
   "display_name": "mie2003",
   "language": "python",
   "name": "mie2003"
  },
  "language_info": {
   "codemirror_mode": {
    "name": "ipython",
    "version": 3
   },
   "file_extension": ".py",
   "mimetype": "text/x-python",
   "name": "python",
   "nbconvert_exporter": "python",
   "pygments_lexer": "ipython3",
   "version": "3.8.13"
  }
 },
 "nbformat": 4,
 "nbformat_minor": 5
}
